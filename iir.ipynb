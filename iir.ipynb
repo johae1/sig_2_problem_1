{
 "cells": [
  {
   "cell_type": "code",
   "execution_count": 1,
   "metadata": {},
   "outputs": [],
   "source": [
    "from scipy.signal import iirnotch\n",
    "import numpy as np"
   ]
  },
  {
   "cell_type": "code",
   "execution_count": 2,
   "metadata": {},
   "outputs": [],
   "source": [
    "# Sampling rate und gewünschte Notch-Frequenzen\n",
    "sample_rate = 48000\n",
    "notch_freqs = [70, 140, 210, 280, 350, 420, 490]\n",
    "quality_factor = 30  # Q-Faktor\n",
    "\n",
    "# Liste, um die Koeffizienten der Notch-Filter zu speichern\n",
    "iir_coefficients = []"
   ]
  },
  {
   "cell_type": "code",
   "execution_count": 3,
   "metadata": {},
   "outputs": [
    {
     "name": "stdout",
     "output_type": "stream",
     "text": [
      "Frequenz: 70 Hz -> b-Koeffizienten: [ 0.99984731 -1.99961067  0.99984731], a-Koeffizienten: [ 1.         -1.99961067  0.99969461]\n",
      "Frequenz: 140 Hz -> b-Koeffizienten: [ 0.99969466 -1.99905359  0.99969466], a-Koeffizienten: [ 1.         -1.99905359  0.99938932]\n",
      "Frequenz: 210 Hz -> b-Koeffizienten: [ 0.99954206 -1.99832887  0.99954206], a-Koeffizienten: [ 1.         -1.99832887  0.99908412]\n",
      "Frequenz: 280 Hz -> b-Koeffizienten: [ 0.99938951 -1.99743662  0.99938951], a-Koeffizienten: [ 1.         -1.99743662  0.99877902]\n",
      "Frequenz: 350 Hz -> b-Koeffizienten: [ 0.999237   -1.99637697  0.999237  ], a-Koeffizienten: [ 1.         -1.99637697  0.998474  ]\n",
      "Frequenz: 420 Hz -> b-Koeffizienten: [ 0.99908454 -1.99515004  0.99908454], a-Koeffizienten: [ 1.         -1.99515004  0.99816908]\n",
      "Frequenz: 490 Hz -> b-Koeffizienten: [ 0.99893213 -1.99375601  0.99893213], a-Koeffizienten: [ 1.         -1.99375601  0.99786425]\n"
     ]
    }
   ],
   "source": [
    "# Für jede Frequenz die Notch-Filter-Koeffizienten berechnen\n",
    "for freq in notch_freqs:\n",
    "    # Berechne IIR-Notch-Filter-Koeffizienten (b, a) für die aktuelle Frequenz\n",
    "    b, a = iirnotch(w0=freq / (sample_rate / 2), Q=quality_factor)\n",
    "    iir_coefficients.append((b, a))\n",
    "    print(f\"Frequenz: {freq} Hz -> b-Koeffizienten: {b}, a-Koeffizienten: {a}\")"
   ]
  }
 ],
 "metadata": {
  "kernelspec": {
   "display_name": "Python 3 (ipykernel)",
   "language": "python",
   "name": "python3"
  },
  "language_info": {
   "codemirror_mode": {
    "name": "ipython",
    "version": 3
   },
   "file_extension": ".py",
   "mimetype": "text/x-python",
   "name": "python",
   "nbconvert_exporter": "python",
   "pygments_lexer": "ipython3",
   "version": "3.12.1"
  }
 },
 "nbformat": 4,
 "nbformat_minor": 2
}
